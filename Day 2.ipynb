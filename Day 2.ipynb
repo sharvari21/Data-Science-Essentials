{
 "cells": [
  {
   "cell_type": "markdown",
   "metadata": {},
   "source": [
    "### Questions 1:\n",
    "\n",
    "Create an empty list. Accept 10 numbers from the user and append to it the list if it is an even number."
   ]
  },
  {
   "cell_type": "code",
   "execution_count": 1,
   "metadata": {},
   "outputs": [
    {
     "name": "stdout",
     "output_type": "stream",
     "text": [
      "Enter 10 numbers\n",
      "\n",
      "5\n",
      "8\n",
      "6\n",
      "9\n",
      "4\n",
      "2\n",
      "3\n",
      "6\n",
      "1\n",
      "4\n",
      "Even numbers among inputed numbers are [8, 6, 4, 2, 6, 4]\n"
     ]
    }
   ],
   "source": [
    "ls = []\n",
    "i = 0\n",
    "print(\"Enter 10 numbers\\n\")\n",
    "while i<10:\n",
    "    num = int(input())\n",
    "    i+=1\n",
    "    if num%2 == 0:\n",
    "        ls.append(num)\n",
    "    else:\n",
    "        continue\n",
    "print(\"Even numbers among inputed numbers are\",list(ls))"
   ]
  },
  {
   "cell_type": "markdown",
   "metadata": {},
   "source": [
    "### Questions 2:\n",
    "\n",
    "Create a notebook on LIST COMPREHENSION. This exercise is to put you in a Self learning mode"
   ]
  },
  {
   "cell_type": "code",
   "execution_count": 2,
   "metadata": {},
   "outputs": [
    {
     "name": "stdout",
     "output_type": "stream",
     "text": [
      "Following are Some operations on List\n",
      "\n",
      "1. Append\n",
      "[9, 8, 7, 6, 5, 4, 10]\n",
      "2. Type\n",
      "3. Pop\n",
      "10\n",
      "4. Count\n",
      "1\n",
      "5. Sort\n",
      "[4, 5, 6, 7, 8, 9]\n",
      "6. Length\n",
      "6\n"
     ]
    }
   ],
   "source": [
    "print(\"Following are Some operations on List\\n\")\n",
    "lst = [9,8,7,6,5,4]\n",
    "print(\"1. Append\")\n",
    "lst.append(10)\n",
    "print(lst)\n",
    "print(\"2. Type\")\n",
    "type(lst)\n",
    "print(\"3. Pop\")\n",
    "print(lst.pop())\n",
    "print(\"4. Count\")\n",
    "print(lst.count(4))\n",
    "print(\"5. Sort\")\n",
    "lst.sort()\n",
    "print(lst)\n",
    "print(\"6. Length\")\n",
    "print(len(lst))"
   ]
  },
  {
   "cell_type": "markdown",
   "metadata": {},
   "source": [
    "### Questions 3:\n",
    "\n",
    "You have seen in the videos how powerful dictionary data structure is.\n",
    "In this assignment, given a number n, you have to write a program that generates a dictionary d which\n",
    "contains (i, i*i), where i is from 1 to n (both included).\n",
    "Then you have to just print this dictionary d.\n",
    "Example:\n",
    "Input: 4\n",
    "will give output as\n",
    "{1: 1, 2: 4, 3: 9, 4: 16}\n",
    "Input Format:\n",
    "Take the number n in a single line.\n",
    "Output Format:\n",
    "Print the dictionary d in a single line.\n",
    "Example:\n",
    "Input:\n",
    "8\n",
    "Output:\n",
    "{1: 1, 2: 4, 3: 9, 4: 16, 5: 25, 6: 36, 7: 49, 8: 64}"
   ]
  },
  {
   "cell_type": "code",
   "execution_count": 3,
   "metadata": {},
   "outputs": [
    {
     "name": "stdout",
     "output_type": "stream",
     "text": [
      "Input:\n",
      "\n",
      "6\n",
      "Output:  {1: 1, 2: 4, 3: 9, 4: 16, 5: 25, 6: 36}\n"
     ]
    }
   ],
   "source": [
    "print(\"Input:\\n\")\n",
    "num = int(input())\n",
    "dct = list(range(1,num+1))\n",
    "c = []\n",
    "for i in dct:\n",
    "    c.append([i,i*i])\n",
    "print('Output: ',dict(c))"
   ]
  },
  {
   "cell_type": "markdown",
   "metadata": {},
   "source": [
    "### Questions 4:\n",
    "\n",
    "There is a robot which wants to go the charging point to charge itself.\n",
    "The robot moves in a 2-D plane from the original point (0,0). The robot can\n",
    "move toward UP, DOWN, LEFT and RIGHT with given steps.\n",
    "The trace of robot movement is shown as the following:\n",
    "UP 5\n",
    "DOWN 3\n",
    "LEFT 3\n",
    "RIGHT 2\n",
    "Then, the output of the program should be:\n",
    "2\n",
    "The numbers after the direction are steps.\n",
    "Write a program to compute the distance between the current position after\n",
    "a sequence of movement and original point. If the distance is a float, then\n",
    "just print the nearest integer (use round() function for that and then convert\n",
    "it into an integer).\n",
    "Input Format:\n",
    "The first line of the input contains a number n which implies the number of\n",
    "directions to be given.\n",
    "The next n lines contain the direction and the step separated by a space.\n",
    "Output Format:\n",
    "Print the distance from the original position to the current position.\n",
    "Example:\n",
    "Input:\n",
    "4\n",
    "UP 5\n",
    "DOWN 3\n",
    "LEFT 3\n",
    "RIGHT 2\n",
    "Output:\n",
    "2"
   ]
  },
  {
   "cell_type": "code",
   "execution_count": 6,
   "metadata": {},
   "outputs": [
    {
     "name": "stdout",
     "output_type": "stream",
     "text": [
      "Input: 4\n",
      "UP 5\n",
      "DOWN 3\n",
      "LEFT 3\n",
      "RIGHT 2\n",
      "Output:  2\n"
     ]
    }
   ],
   "source": [
    "a1 = int(input('Input: '))\n",
    "b1 = [a1]\n",
    "c1 = 1\n",
    "while c1 < a1+1:\n",
    "    c1 = c1+1\n",
    "    d1 = str(input())\n",
    "    e1 = d1.split(' ')\n",
    "    f1 = [e1[0], e1[1]]\n",
    "    b1.append(f1)\n",
    "g1 = 0\n",
    "h1 = 0\n",
    "for i1 in b1[1:]:\n",
    "    if i1[0] == 'UP':\n",
    "        g1 = g1 + int(i1[1])\n",
    "    elif i1[0] == 'DOWN':\n",
    "        g1 = g1 - int(i1[1])\n",
    "    elif i1[0] == 'LEFT':\n",
    "        h1 = h1 - int(i1[1])\n",
    "    else:\n",
    "        h1 = h1 + int(i1[1])\n",
    "        \n",
    "dist = int(((g1*g1)+(h1*h1))**0.5)\n",
    "\n",
    "print('Output: ', dist)"
   ]
  },
  {
   "cell_type": "code",
   "execution_count": null,
   "metadata": {},
   "outputs": [],
   "source": []
  }
 ],
 "metadata": {
  "kernelspec": {
   "display_name": "Python 3",
   "language": "python",
   "name": "python3"
  },
  "language_info": {
   "codemirror_mode": {
    "name": "ipython",
    "version": 3
   },
   "file_extension": ".py",
   "mimetype": "text/x-python",
   "name": "python",
   "nbconvert_exporter": "python",
   "pygments_lexer": "ipython3",
   "version": "3.8.3"
  }
 },
 "nbformat": 4,
 "nbformat_minor": 4
}
