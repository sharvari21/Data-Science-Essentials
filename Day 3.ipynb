{
 "cells": [
  {
   "cell_type": "markdown",
   "metadata": {},
   "source": [
    "### Questions 1:\n",
    "Create a numpy array starting from 2 till 50 with a stepsize of 3."
   ]
  },
  {
   "cell_type": "code",
   "execution_count": 2,
   "metadata": {},
   "outputs": [],
   "source": [
    "import numpy as np"
   ]
  },
  {
   "cell_type": "code",
   "execution_count": 4,
   "metadata": {},
   "outputs": [
    {
     "name": "stdout",
     "output_type": "stream",
     "text": [
      "[ 2  5  8 11 14 17 20 23 26 29 32 35 38 41 44 47]\n"
     ]
    }
   ],
   "source": [
    "arr = np.arange(start=2, stop=50, step=3)\n",
    "print(arr)"
   ]
  },
  {
   "cell_type": "markdown",
   "metadata": {},
   "source": [
    "### Questions 2:\n",
    "Accept two lists of 5 elements each from the user.\n",
    "Convert them to numpy arrays. Concatenate these arrays and print it. Also sort these arrays and print it."
   ]
  },
  {
   "cell_type": "code",
   "execution_count": 13,
   "metadata": {},
   "outputs": [
    {
     "name": "stdout",
     "output_type": "stream",
     "text": [
      "Enter elements in first list:\n",
      "1\n",
      "4\n",
      "5\n",
      "7\n",
      "8\n",
      "Enter elements in first list:\n",
      "4\n",
      "5\n",
      "6\n",
      "5\n",
      "4\n",
      "Two list are: [1, 4, 5, 7, 8] [4, 5, 6, 5, 4]\n",
      "List converted array are:\n",
      "\n",
      "[1 4 5 7 8] [4 5 6 5 4]\n",
      "Concatination of array are:\n",
      "[1 4 5 7 8 4 5 6 5 4]\n",
      "Sorted Array is:\n",
      "\n",
      "[1 4 4 4 5 5 5 6 7 8]\n"
     ]
    }
   ],
   "source": [
    "lst1 = []\n",
    "lst2 = []\n",
    "print(\"Enter elements in first list:\")\n",
    "for i in range(0,5):\n",
    "    a = int(input())\n",
    "    lst1.append(a)\n",
    "print(\"Enter elements in first list:\")\n",
    "for j in range(0,5):\n",
    "    b = int(input())\n",
    "    lst2.append(b)\n",
    "print(\"Two list are:\",lst1,lst2)\n",
    "print(\"List converted array are:\\n\")\n",
    "print(np.array(lst1),np.array(lst2))\n",
    "print(\"Concatination of array are:\")\n",
    "c = np.concatenate([lst1,lst2])\n",
    "print(c)\n",
    "print(\"Sorted Array is:\\n\")\n",
    "c.sort()\n",
    "print(c)"
   ]
  },
  {
   "cell_type": "markdown",
   "metadata": {},
   "source": [
    "### Questions 3:\n",
    "Write a code snippet to find the dimensions of a ndarray and its size."
   ]
  },
  {
   "cell_type": "code",
   "execution_count": 19,
   "metadata": {},
   "outputs": [
    {
     "name": "stdout",
     "output_type": "stream",
     "text": [
      "Array is:\n",
      " [[ 0  1  2  3]\n",
      " [ 4  5  6  7]\n",
      " [ 8  9 10 11]\n",
      " [12 13 14 15]\n",
      " [16 17 18 19]]\n",
      "\n",
      "Array shape\t (5, 4)\n",
      "Array dimension\t 2\n",
      "Array size\t 20\n"
     ]
    }
   ],
   "source": [
    "arr = np.arange(0,20).reshape(5,4)\n",
    "print('Array is:\\n',arr)\n",
    "print('\\nArray shape\\t',arr.shape)\n",
    "print('Array dimension\\t',arr.ndim)\n",
    "print('Array size\\t',arr.size)"
   ]
  },
  {
   "cell_type": "markdown",
   "metadata": {},
   "source": [
    "### Questions 4:\n",
    "\n",
    "How to convert a 1D array into a 2D array? Demonstrate with the help of a code snippet\n",
    "Hint: np.newaxis, np.expand_dims"
   ]
  },
  {
   "cell_type": "code",
   "execution_count": 29,
   "metadata": {},
   "outputs": [
    {
     "name": "stdout",
     "output_type": "stream",
     "text": [
      "[0 1 2 3 4 5]\n",
      "\n",
      "Shape of array\t (6,)\n",
      "\n",
      "Dimrnsion of array is=\t 1\n",
      "\n",
      "Converted array:\n",
      "\n",
      "[[0]\n",
      " [1]\n",
      " [2]\n",
      " [3]\n",
      " [4]\n",
      " [5]]\n",
      "\n",
      "Dimrnsion of array is=\t 2\n",
      "\n",
      "Shape of array is=\t (6, 1)\n"
     ]
    }
   ],
   "source": [
    "a = np.arange(6)\n",
    "print(a)\n",
    "\n",
    "print(\"\\nShape of array\\t\",a.shape)\n",
    "print(\"\\nDimrnsion of array is=\\t\",a.ndim)\n",
    "\n",
    "print(\"\\nConverted array:\\n\")\n",
    "print(a[:,  np.newaxis])\n",
    "print(\"\\nDimrnsion of array is=\\t\",a[:, np.newaxis].ndim)\n",
    "print(\"\\nShape of array is=\\t\",a[:, np.newaxis].shape)\n"
   ]
  },
  {
   "cell_type": "markdown",
   "metadata": {},
   "source": [
    "### Questions 5:\n",
    "Consider two square numpy arrays. Stack them vertically and horizontally.\n",
    "Hint: Use vstack(), hstack()"
   ]
  },
  {
   "cell_type": "code",
   "execution_count": 31,
   "metadata": {},
   "outputs": [
    {
     "name": "stdout",
     "output_type": "stream",
     "text": [
      "horizontal stacking \n",
      " [[1. 0. 0. 0. 0. 1. 1. 1. 1. 1.]\n",
      " [0. 1. 0. 0. 0. 1. 1. 1. 1. 1.]\n",
      " [0. 0. 1. 0. 0. 1. 1. 1. 1. 1.]\n",
      " [0. 0. 0. 1. 0. 1. 1. 1. 1. 1.]\n",
      " [0. 0. 0. 0. 1. 1. 1. 1. 1. 1.]] \n",
      "\n",
      "vertical stacking \n",
      " [[1. 0. 0. 0. 0.]\n",
      " [0. 1. 0. 0. 0.]\n",
      " [0. 0. 1. 0. 0.]\n",
      " [0. 0. 0. 1. 0.]\n",
      " [0. 0. 0. 0. 1.]\n",
      " [1. 1. 1. 1. 1.]\n",
      " [1. 1. 1. 1. 1.]\n",
      " [1. 1. 1. 1. 1.]\n",
      " [1. 1. 1. 1. 1.]\n",
      " [1. 1. 1. 1. 1.]]\n"
     ]
    }
   ],
   "source": [
    "a = np.identity(5)\n",
    "b = np.ones([5,5])\n",
    "print('horizontal stacking \\n',np.hstack([a,b]),'\\n')\n",
    "print('vertical stacking \\n',np.vstack([a,b]))"
   ]
  },
  {
   "cell_type": "markdown",
   "metadata": {},
   "source": [
    "### Questions 6:\n",
    "How to get unique items and counts of unique items?"
   ]
  },
  {
   "cell_type": "code",
   "execution_count": 35,
   "metadata": {},
   "outputs": [
    {
     "name": "stdout",
     "output_type": "stream",
     "text": [
      "Array is \n",
      " [[ 9  2 18 18  7]\n",
      " [ 5  4 14 12 17]\n",
      " [ 5 16 10  5  7]\n",
      " [ 2  9 19 16  5]\n",
      " [ 2 19  4  6  7]]\n",
      "\n",
      " Unique values with their count \n",
      " [[ 2  4  5  6  7  9 10 12 14 16 17 18 19]\n",
      " [ 3  2  4  1  3  2  1  1  1  2  1  2  2]]\n"
     ]
    }
   ],
   "source": [
    "a = np.random.randint(20, size = (5,5))\n",
    "print('Array is \\n',a)\n",
    "b = np.unique(a, return_counts= True)\n",
    "c = np.vstack([b[0], b[1]])\n",
    "print('\\n Unique values with their count \\n',c)"
   ]
  },
  {
   "cell_type": "code",
   "execution_count": null,
   "metadata": {},
   "outputs": [],
   "source": []
  }
 ],
 "metadata": {
  "kernelspec": {
   "display_name": "Python 3",
   "language": "python",
   "name": "python3"
  },
  "language_info": {
   "codemirror_mode": {
    "name": "ipython",
    "version": 3
   },
   "file_extension": ".py",
   "mimetype": "text/x-python",
   "name": "python",
   "nbconvert_exporter": "python",
   "pygments_lexer": "ipython3",
   "version": "3.8.3"
  }
 },
 "nbformat": 4,
 "nbformat_minor": 4
}
